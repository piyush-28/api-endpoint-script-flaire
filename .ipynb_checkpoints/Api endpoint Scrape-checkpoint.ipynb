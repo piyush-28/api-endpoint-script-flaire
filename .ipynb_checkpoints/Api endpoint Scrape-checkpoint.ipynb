{
 "cells": [
  {
   "cell_type": "code",
   "execution_count": 2,
   "metadata": {},
   "outputs": [],
   "source": [
    "import traceback"
   ]
  },
  {
   "cell_type": "markdown",
   "metadata": {},
   "source": [
    "API ENDPOINT SCRAPE"
   ]
  },
  {
   "cell_type": "code",
   "execution_count": 3,
   "metadata": {},
   "outputs": [],
   "source": [
    "import time"
   ]
  },
  {
   "cell_type": "code",
   "execution_count": 4,
   "metadata": {},
   "outputs": [],
   "source": [
    "from requests_module import Request"
   ]
  },
  {
   "cell_type": "code",
   "execution_count": 5,
   "metadata": {},
   "outputs": [],
   "source": [
    "import requests"
   ]
  },
  {
   "cell_type": "code",
   "execution_count": 6,
   "metadata": {},
   "outputs": [],
   "source": [
    "import pandas as pd"
   ]
  },
  {
   "cell_type": "code",
   "execution_count": 7,
   "metadata": {},
   "outputs": [],
   "source": [
    "df = pd.read_csv('Ecomm Data.csv')"
   ]
  },
  {
   "cell_type": "code",
   "execution_count": 10,
   "metadata": {},
   "outputs": [
    {
     "data": {
      "text/plain": [
       "Unnamed: 0                                                            5359\n",
       "name                                                          Carolyn Keys\n",
       "token                                                         b_exb2xs3ag9\n",
       "urls                     https://www.faire.com/api/brand-view/b_exb2xs3ag9\n",
       "owner_user_token                                              u_29lk17tycj\n",
       "short_description        Carolyn Keys is a line of handmade modern jewe...\n",
       "description              Carolyn Keys is a line of handmade modern jewe...\n",
       "url                                                http://carolynkeys.com/\n",
       "instagram_handle                                        carolynkeysjewelry\n",
       "categories                                                             NaN\n",
       "deranked_categories                                                    NaN\n",
       "made_in                                                                USA\n",
       "based_in                                                               USA\n",
       "based_in_state                                                          PA\n",
       "based_in_city                                                Kintnersville\n",
       "ships_from_country                                                     USA\n",
       "creation_year                                                         2016\n",
       "hand_made                                                             True\n",
       "lead_time_days                                                          14\n",
       "sold_on_amazon                                                       False\n",
       "active_products_count                                                  118\n",
       "facebook_followers                                                     NaN\n",
       "instagram_followers                                                   1484\n",
       "twitter_followers                                                      NaN\n",
       "last_product_added_at                                          1.61473e+12\n",
       "average_rating                                                           5\n",
       "number_of_reviews                                                        2\n",
       "owner_first_name                                                   Carolyn\n",
       "owner_last_name                                                    Hanisch\n",
       "minimum_order_amount                                             35000 USD\n",
       "primary_category                                            OTHER_CATEGORY\n",
       "related_search_terms                                               pyramid\n",
       "is_shopify                                                            True\n",
       "Name: 5359, dtype: object"
      ]
     },
     "execution_count": 10,
     "metadata": {},
     "output_type": "execute_result"
    }
   ],
   "source": [
    "df.iloc[5359]"
   ]
  },
  {
   "cell_type": "code",
   "execution_count": 11,
   "metadata": {},
   "outputs": [],
   "source": [
    "url = 'https://www.faire.com/api/brand-view/b_dd0d5049'"
   ]
  },
  {
   "cell_type": "code",
   "execution_count": 12,
   "metadata": {},
   "outputs": [],
   "source": [
    "json = requests.get(url).json()"
   ]
  },
  {
   "cell_type": "code",
   "execution_count": 13,
   "metadata": {},
   "outputs": [],
   "source": [
    "brand_keys = list(json['brand'].keys())\n",
    "brand_keys.sort()"
   ]
  },
  {
   "cell_type": "code",
   "execution_count": 14,
   "metadata": {},
   "outputs": [
    {
     "data": {
      "text/plain": [
       "True"
      ]
     },
     "execution_count": 14,
     "metadata": {},
     "output_type": "execute_result"
    }
   ],
   "source": [
    "'description' in brand_keys"
   ]
  },
  {
   "cell_type": "code",
   "execution_count": 18,
   "metadata": {},
   "outputs": [
    {
     "ename": "NameError",
     "evalue": "name 'K' is not defined",
     "output_type": "error",
     "traceback": [
      "\u001b[1;31m---------------------------------------------------------------------------\u001b[0m",
      "\u001b[1;31mNameError\u001b[0m                                 Traceback (most recent call last)",
      "\u001b[1;32m<ipython-input-18-80470a7c925e>\u001b[0m in \u001b[0;36m<module>\u001b[1;34m\u001b[0m\n\u001b[1;32m----> 1\u001b[1;33m \u001b[1;32mfor\u001b[0m \u001b[0mkey\u001b[0m \u001b[1;32min\u001b[0m \u001b[0mK\u001b[0m\u001b[1;33m:\u001b[0m\u001b[1;33m\u001b[0m\u001b[1;33m\u001b[0m\u001b[0m\n\u001b[0m\u001b[0;32m      2\u001b[0m     \u001b[0mprint\u001b[0m\u001b[1;33m(\u001b[0m\u001b[0mkey\u001b[0m\u001b[1;33m)\u001b[0m\u001b[1;33m\u001b[0m\u001b[1;33m\u001b[0m\u001b[0m\n",
      "\u001b[1;31mNameError\u001b[0m: name 'K' is not defined"
     ]
    }
   ],
   "source": [
    "for key in K:\n",
    "    print(key)"
   ]
  },
  {
   "cell_type": "code",
   "execution_count": 19,
   "metadata": {},
   "outputs": [
    {
     "data": {
      "text/plain": [
       "4.9"
      ]
     },
     "execution_count": 19,
     "metadata": {},
     "output_type": "execute_result"
    }
   ],
   "source": [
    "json['brand']['brand_reviews_summary']['average_rating']"
   ]
  },
  {
   "cell_type": "code",
   "execution_count": 20,
   "metadata": {},
   "outputs": [
    {
     "data": {
      "text/plain": [
       "35"
      ]
     },
     "execution_count": 20,
     "metadata": {},
     "output_type": "execute_result"
    }
   ],
   "source": [
    "json['brand']['brand_reviews_summary']['number_of_reviews']"
   ]
  },
  {
   "cell_type": "code",
   "execution_count": 21,
   "metadata": {},
   "outputs": [
    {
     "data": {
      "text/plain": [
       "['diy+kit', 'manicure kit']"
      ]
     },
     "execution_count": 21,
     "metadata": {},
     "output_type": "execute_result"
    }
   ],
   "source": [
    "json['related_search_terms']"
   ]
  },
  {
   "cell_type": "code",
   "execution_count": 22,
   "metadata": {
    "scrolled": true
   },
   "outputs": [
    {
     "name": "stdout",
     "output_type": "stream",
     "text": [
      "Column: name  found in brand\n",
      "Column: token  found in brand\n",
      "Column: owner_user_token  found in brand\n",
      "Column: short_description  found in brand\n",
      "Column: description  found in brand\n",
      "Column: url  found in brand\n",
      "Column: instagram_handle  found in brand\n",
      "Column: categories  found in brand\n",
      "Column: deranked_categories  found in brand\n",
      "Column: made_in  found in brand\n",
      "Column: based_in  found in brand\n",
      "Column: based_in_state  found in brand\n",
      "Column: based_in_city  found in brand\n",
      "Column: ships_from_country  found in brand\n",
      "Column: creation_year  found in brand\n",
      "Column: hand_made  found in brand\n",
      "Column: lead_time_days  found in brand\n",
      "Column: sold_on_amazon  found in brand\n",
      "Column: active_products_count  found in brand\n",
      "Column: facebook_followers  found in brand\n",
      "Column: instagram_followers  found in brand\n",
      "Column: twitter_followers  found in brand\n",
      "Column: last_product_added_at  found in brand\n",
      "Column: owner_first_name  found in brand\n",
      "Column: owner_last_name  found in brand\n",
      "Column: minimum_order_amount  found in brand\n",
      "Column: primary_category  found in brand\n",
      "---------------------------\n",
      "Column: Unnamed: 0 not found\n",
      "Column: urls not found\n",
      "Column: average_rating not found\n",
      "Column: number_of_reviews not found\n",
      "Column: related_search_terms not found\n",
      "Column: is_shopify not found\n"
     ]
    }
   ],
   "source": [
    "found = list()\n",
    "not_found = list()\n",
    "for col in df.columns:\n",
    "    if col in json['brand']:\n",
    "        found.append(col)\n",
    "        \n",
    "    else:\n",
    "        not_found.append(col)\n",
    "        \n",
    "for item in found:\n",
    "    print('Column:', item, ' found in brand')\n",
    "    \n",
    "print('---------------------------')\n",
    "\n",
    "for item in not_found:\n",
    "    print('Column:', item, 'not found')"
   ]
  },
  {
   "cell_type": "code",
   "execution_count": 23,
   "metadata": {},
   "outputs": [
    {
     "name": "stdout",
     "output_type": "stream",
     "text": [
      "Unnamed: 0\n",
      "name\n",
      "token\n",
      "urls\n",
      "owner_user_token\n",
      "short_description\n",
      "description\n",
      "url\n",
      "instagram_handle\n",
      "categories\n",
      "deranked_categories\n",
      "made_in\n",
      "based_in\n",
      "based_in_state\n",
      "based_in_city\n",
      "ships_from_country\n",
      "creation_year\n",
      "hand_made\n",
      "lead_time_days\n",
      "sold_on_amazon\n",
      "active_products_count\n",
      "facebook_followers\n",
      "instagram_followers\n",
      "twitter_followers\n",
      "last_product_added_at\n",
      "average_rating\n",
      "number_of_reviews\n",
      "owner_first_name\n",
      "owner_last_name\n",
      "minimum_order_amount\n",
      "primary_category\n",
      "related_search_terms\n",
      "is_shopify\n"
     ]
    }
   ],
   "source": [
    "for col in df.columns:\n",
    "    print(col)"
   ]
  },
  {
   "cell_type": "markdown",
   "metadata": {},
   "source": [
    "# creating functions"
   ]
  },
  {
   "cell_type": "code",
   "execution_count": 37,
   "metadata": {},
   "outputs": [],
   "source": [
    "READ_FILE = 'Ecomm Data.csv'"
   ]
  },
  {
   "cell_type": "code",
   "execution_count": 24,
   "metadata": {},
   "outputs": [],
   "source": [
    "def get_similar_columns(df, json):\n",
    "#     json = requests.get(url).json()\n",
    "    found = list()\n",
    "    for col in df.columns:\n",
    "        if col in json['brand']:\n",
    "            found.append(col)\n",
    "\n",
    "    return found"
   ]
  },
  {
   "cell_type": "code",
   "execution_count": 36,
   "metadata": {},
   "outputs": [],
   "source": [
    "def get_data(json):\n",
    "    D = dict()\n",
    "    similar_cols = get_similar_columns(df, json)\n",
    "    for col in similar_cols:\n",
    "        D[col] = json['brand'][col]\n",
    "#     D['average_rating'] = json['\n",
    "    D['average_rating'] = json['brand']['brand_reviews_summary']['average_rating']\n",
    "    D['number_of_reviews'] = json['brand']['brand_reviews_summary']['number_of_reviews']\n",
    "    D['related_search_terms'] = '; '.join(json['related_search_terms'])\n",
    "    try:\n",
    "        url = json['brand']['url']\n",
    "        shopify_url = url + 'products.json'\n",
    "        print('Getting shopify url')\n",
    "        resp = Request.get(shopify_url)\n",
    "        print('Got shopify url')\n",
    "        json2 = resp.json()\n",
    "        if 'products' in json2.keys():\n",
    "            D['is_shopify'] = 'true'\n",
    "        else:\n",
    "            D['is_shopify'] = 'false'\n",
    "        \n",
    "    except:\n",
    "        traceback.print_exc()\n",
    "        D['is_shopify'] = 'false'\n",
    "    \n",
    "    \n",
    "    return D"
   ]
  },
  {
   "cell_type": "code",
   "execution_count": 34,
   "metadata": {},
   "outputs": [],
   "source": [
    "def main(start_index = None, end_index = None, ):\n",
    "    try:\n",
    "        df = pd.read_csv(READ_FILE)    \n",
    "    except:\n",
    "        df = pd.read_excel(READ_FILE)\n",
    "    if start_index == None:\n",
    "        start_index = 0\n",
    "        \n",
    "    if end_index == None:\n",
    "        end_index = len(df) - 1\n",
    "    \n",
    "    \n",
    "    for i in range(start_index, end_index + 1):\n",
    "        print('--------------------------')\n",
    "        print('Scraping: ', i)\n",
    "        try:\n",
    "            row = df.iloc[i]\n",
    "            url = row['urls']\n",
    "            print('Making request')\n",
    "            resp = Request.get(url)\n",
    "            print('Request made')\n",
    "            print('Getting json')\n",
    "            json = resp.json()\n",
    "            print('Got json')\n",
    "            unclean_json = get_data(json)\n",
    "            clean_json = clean_dict(unclean_json)\n",
    "            print('Cleaned JSON')\n",
    "            for key in clean_json.keys():\n",
    "                if key in df.columns:\n",
    "                    df.loc[i, key] = clean_json[key]\n",
    "            print('Added keys to CSV')\n",
    "        \n",
    "        \n",
    "        except:\n",
    "            print('Problem in Main')\n",
    "            print(row['urls'])\n",
    "            traceback.print_exc()\n",
    "            \n",
    "        finally:\n",
    "            print('Sleeping')\n",
    "            time.sleep(.2)\n",
    "            \n",
    "            \n",
    "        if i % 10 ==0 and i != 0:\n",
    "            try:\n",
    "                df.to_csv(READ_FILE, index = False)\n",
    "                print('Saving to CSV')\n",
    "                    \n",
    "            except:\n",
    "                traceback.print_exc()\n",
    "                \n",
    "            \n",
    "            finally:\n",
    "                print(i, 'Rows Scraped.')\n",
    "                    "
   ]
  },
  {
   "cell_type": "code",
   "execution_count": 35,
   "metadata": {},
   "outputs": [],
   "source": [
    "def clean_dict(d):\n",
    "    pass\n",
    "    for key in d.keys():\n",
    "        if type(d[key]) == list:\n",
    "            d[key] = ', '.join(d[key])\n",
    "    \n",
    "    if 'minimum_order_amount' in d.keys() and type(d['minimum_order_amount']) == dict:\n",
    "        d['minimum_order_amount'] = str(d['minimum_order_amount']['amount_cents']) + ' ' + str(d['minimum_order_amount']['currency'])\n",
    "    return d"
   ]
  },
  {
   "cell_type": "code",
   "execution_count": null,
   "metadata": {
    "scrolled": true
   },
   "outputs": [
    {
     "name": "stdout",
     "output_type": "stream",
     "text": [
      "--------------------------\n",
      "Scraping:  8001\n",
      "Making request\n",
      "Request made\n",
      "Getting json\n",
      "Got json\n",
      "Getting shopify url\n",
      "Cleaned JSON\n",
      "Added keys to CSV\n",
      "Sleeping\n",
      "--------------------------\n",
      "Scraping:  8002\n",
      "Making request\n",
      "Request made\n",
      "Getting json\n",
      "Got json\n",
      "Getting shopify url\n",
      "Cleaned JSON\n",
      "Added keys to CSV\n",
      "Sleeping\n",
      "--------------------------\n",
      "Scraping:  8003\n",
      "Making request\n",
      "Request made\n",
      "Getting json\n",
      "Got json\n",
      "Getting shopify url\n",
      "Cleaned JSON\n",
      "Added keys to CSV\n",
      "Sleeping\n",
      "--------------------------\n",
      "Scraping:  8004\n",
      "Making request\n",
      "Request made\n",
      "Getting json\n",
      "Got json\n",
      "Getting shopify url\n",
      "Cleaned JSON\n",
      "Added keys to CSV\n",
      "Sleeping\n",
      "--------------------------\n",
      "Scraping:  8005\n",
      "Making request\n",
      "Request made\n",
      "Getting json\n",
      "Got json\n",
      "Getting shopify url\n",
      "Cleaned JSON\n",
      "Added keys to CSV\n",
      "Sleeping\n",
      "--------------------------\n",
      "Scraping:  8006\n",
      "Making request\n",
      "Request made\n",
      "Getting json\n",
      "Got json\n",
      "Getting shopify url\n",
      "Cleaned JSON\n",
      "Added keys to CSV\n",
      "Sleeping\n",
      "--------------------------\n",
      "Scraping:  8007\n",
      "Making request\n",
      "Request made\n",
      "Getting json\n",
      "Got json\n",
      "Getting shopify url\n",
      "Cleaned JSON\n",
      "Added keys to CSV\n",
      "Sleeping\n",
      "--------------------------\n",
      "Scraping:  8008\n",
      "Making request\n",
      "Request made\n",
      "Getting json\n",
      "Got json\n",
      "Getting shopify url\n",
      "Cleaned JSON\n",
      "Added keys to CSV\n",
      "Sleeping\n",
      "--------------------------\n",
      "Scraping:  8009\n",
      "Making request\n",
      "Request made\n",
      "Getting json\n",
      "Got json\n",
      "Getting shopify url\n",
      "Cleaned JSON\n",
      "Added keys to CSV\n",
      "Sleeping\n"
     ]
    }
   ],
   "source": [
    "main(8001, 10000)"
   ]
  },
  {
   "cell_type": "code",
   "execution_count": 73,
   "metadata": {},
   "outputs": [],
   "source": [
    "json2= Request.get(get_data(json)['url'] + 'products.json').json()"
   ]
  },
  {
   "cell_type": "code",
   "execution_count": 58,
   "metadata": {},
   "outputs": [
    {
     "data": {
      "text/plain": [
       "dict_keys(['products'])"
      ]
     },
     "execution_count": 58,
     "metadata": {},
     "output_type": "execute_result"
    }
   ],
   "source": [
    "json2.keys()"
   ]
  },
  {
   "cell_type": "code",
   "execution_count": 40,
   "metadata": {},
   "outputs": [
    {
     "data": {
      "text/plain": [
       "'diy+kit; manicure kit'"
      ]
     },
     "execution_count": 40,
     "metadata": {},
     "output_type": "execute_result"
    }
   ],
   "source": [
    "'; '.join(json['related_search_terms'])"
   ]
  },
  {
   "cell_type": "markdown",
   "metadata": {},
   "source": [
    " URLS are already filled in\n",
    " \n",
    " Average rating is at json[brand_review_summary]\n",
    " \n",
    " Number of reviews also\n",
    " \n",
    " Related search term is a key\n",
    " \n",
    " Is shopify to be done"
   ]
  },
  {
   "cell_type": "code",
   "execution_count": 20,
   "metadata": {},
   "outputs": [
    {
     "data": {
      "text/plain": [
       "{'name': 'Craft a Brew',\n",
       " 'token': 'b_dd0d5049',\n",
       " 'owner_user_token': 'u_20i7hxhlqq',\n",
       " 'short_description': 'Here at Craft a Brew we’re on a mission to turn craft beer lovers into craft beer brewers with our premium homebrew kits.',\n",
       " 'description': 'Here at Craft a Brew we’re on a mission to turn craft beer lovers into craft beer brewers with our premium homebrew kits. Designed to help first-timers and hobbyists alike make the best possible beer in their very own kitchens, right out of the box. Since 2010, we’ve been perfecting our easy-to-use kits, sourcing the freshest ingredients from the same suppliers of the American craft beer industry and proudly assembling each kit by hand, under one roof in Orlando, FL.',\n",
       " 'url': 'https://craftabrew.com/',\n",
       " 'instagram_handle': 'craftabrew',\n",
       " 'categories': [],\n",
       " 'deranked_categories': [],\n",
       " 'made_in': 'USA',\n",
       " 'based_in': 'USA',\n",
       " 'based_in_state': 'FL',\n",
       " 'based_in_city': 'Orlando',\n",
       " 'ships_from_country': 'USA',\n",
       " 'creation_year': 2010,\n",
       " 'hand_made': True,\n",
       " 'lead_time_days': 8,\n",
       " 'sold_on_amazon': True,\n",
       " 'active_products_count': 37,\n",
       " 'facebook_followers': 22070,\n",
       " 'instagram_followers': 8388,\n",
       " 'twitter_followers': 1698,\n",
       " 'last_product_added_at': 1589993764000,\n",
       " 'owner_first_name': 'Kyle',\n",
       " 'owner_last_name': 'Westfall',\n",
       " 'minimum_order_amount': {'amount_cents': 10000, 'currency': 'USD'},\n",
       " 'primary_category': 'FOOD_DRINK'}"
      ]
     },
     "execution_count": 20,
     "metadata": {},
     "output_type": "execute_result"
    }
   ],
   "source": [
    "get_data(json)"
   ]
  },
  {
   "cell_type": "code",
   "execution_count": 21,
   "metadata": {},
   "outputs": [
    {
     "name": "stdout",
     "output_type": "stream",
     "text": [
      "categories\n",
      "[]\n",
      "<class 'list'>\n",
      "----\n",
      "deranked_categories\n",
      "[]\n",
      "<class 'list'>\n",
      "----\n",
      "hand_made\n",
      "True\n",
      "<class 'bool'>\n",
      "----\n",
      "sold_on_amazon\n",
      "True\n",
      "<class 'bool'>\n",
      "----\n",
      "minimum_order_amount\n",
      "{'amount_cents': 10000, 'currency': 'USD'}\n",
      "<class 'dict'>\n",
      "----\n"
     ]
    }
   ],
   "source": [
    "D = get_data(json)\n",
    "for key in D.keys():\n",
    "    if not (type(D[key]) == str or type(D[key]) == int):\n",
    "        print(key)\n",
    "        print(D[key])\n",
    "        print(type(D[key]))\n",
    "        print('----')"
   ]
  },
  {
   "cell_type": "markdown",
   "metadata": {},
   "source": [
    "Special items that are not string are : \n",
    "\n",
    "Categories are list\n",
    "\n",
    "deranked_categories are list \n",
    "\n",
    "Minimum Order Amount is dict\n",
    "\n",
    "\n"
   ]
  },
  {
   "cell_type": "code",
   "execution_count": 23,
   "metadata": {
    "scrolled": true
   },
   "outputs": [
    {
     "data": {
      "text/plain": [
       "{'name': 'Craft a Brew',\n",
       " 'token': 'b_dd0d5049',\n",
       " 'owner_user_token': 'u_20i7hxhlqq',\n",
       " 'short_description': 'Here at Craft a Brew we’re on a mission to turn craft beer lovers into craft beer brewers with our premium homebrew kits.',\n",
       " 'description': 'Here at Craft a Brew we’re on a mission to turn craft beer lovers into craft beer brewers with our premium homebrew kits. Designed to help first-timers and hobbyists alike make the best possible beer in their very own kitchens, right out of the box. Since 2010, we’ve been perfecting our easy-to-use kits, sourcing the freshest ingredients from the same suppliers of the American craft beer industry and proudly assembling each kit by hand, under one roof in Orlando, FL.',\n",
       " 'url': 'https://craftabrew.com/',\n",
       " 'instagram_handle': 'craftabrew',\n",
       " 'categories': '',\n",
       " 'deranked_categories': '',\n",
       " 'made_in': 'USA',\n",
       " 'based_in': 'USA',\n",
       " 'based_in_state': 'FL',\n",
       " 'based_in_city': 'Orlando',\n",
       " 'ships_from_country': 'USA',\n",
       " 'creation_year': 2010,\n",
       " 'hand_made': True,\n",
       " 'lead_time_days': 8,\n",
       " 'sold_on_amazon': True,\n",
       " 'active_products_count': 37,\n",
       " 'facebook_followers': 22070,\n",
       " 'instagram_followers': 8388,\n",
       " 'twitter_followers': 1698,\n",
       " 'last_product_added_at': 1589993764000,\n",
       " 'owner_first_name': 'Kyle',\n",
       " 'owner_last_name': 'Westfall',\n",
       " 'minimum_order_amount': '10000 USD',\n",
       " 'primary_category': 'FOOD_DRINK'}"
      ]
     },
     "execution_count": 23,
     "metadata": {},
     "output_type": "execute_result"
    }
   ],
   "source": [
    "clean_dict(D)"
   ]
  },
  {
   "cell_type": "code",
   "execution_count": 113,
   "metadata": {},
   "outputs": [
    {
     "data": {
      "text/plain": [
       "['name',\n",
       " 'token',\n",
       " 'urls',\n",
       " 'owner_user_token',\n",
       " 'short_description',\n",
       " 'description',\n",
       " 'url',\n",
       " 'instagram_handle',\n",
       " 'categories',\n",
       " 'deranked_categories',\n",
       " 'made_in',\n",
       " 'based_in',\n",
       " 'based_in_state',\n",
       " 'based_in_city',\n",
       " 'ships_from_country',\n",
       " 'creation_year',\n",
       " 'hand_made',\n",
       " 'lead_time_days',\n",
       " 'sold_on_amazon',\n",
       " 'active_products_count',\n",
       " 'facebook_followers',\n",
       " 'instagram_followers',\n",
       " 'twitter_followers',\n",
       " 'last_product_added_at',\n",
       " 'average_rating',\n",
       " 'number_of_reviews',\n",
       " 'owner_first_name',\n",
       " 'owner_last_name',\n",
       " 'minimum_order_amount',\n",
       " 'primary_category',\n",
       " 'related_search_terms',\n",
       " 'is_shopify']"
      ]
     },
     "execution_count": 113,
     "metadata": {},
     "output_type": "execute_result"
    }
   ],
   "source": [
    "list(df.columns)"
   ]
  },
  {
   "cell_type": "code",
   "execution_count": null,
   "metadata": {},
   "outputs": [],
   "source": []
  },
  {
   "cell_type": "code",
   "execution_count": null,
   "metadata": {},
   "outputs": [],
   "source": []
  }
 ],
 "metadata": {
  "kernelspec": {
   "display_name": "Python 3",
   "language": "python",
   "name": "python3"
  },
  "language_info": {
   "codemirror_mode": {
    "name": "ipython",
    "version": 3
   },
   "file_extension": ".py",
   "mimetype": "text/x-python",
   "name": "python",
   "nbconvert_exporter": "python",
   "pygments_lexer": "ipython3",
   "version": "3.8.5"
  }
 },
 "nbformat": 4,
 "nbformat_minor": 4
}
